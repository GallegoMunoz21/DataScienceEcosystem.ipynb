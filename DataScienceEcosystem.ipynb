{
  "nbformat": 4,
  "nbformat_minor": 0,
  "metadata": {
    "colab": {
      "provenance": []
    },
    "kernelspec": {
      "name": "python3",
      "display_name": "Python 3"
    },
    "language_info": {
      "name": "python"
    }
  },
  "cells": [
    {
      "cell_type": "code",
      "execution_count": 1,
      "metadata": {
        "id": "l4doevxLUdmy"
      },
      "outputs": [],
      "source": [
        "# Data Science Tools and Ecosystem\n"
      ]
    },
    {
      "cell_type": "markdown",
      "source": [
        "In this notebook, Data Science Tools and Ecosystem are summarized.\n"
      ],
      "metadata": {
        "id": "xCExIqY_UvLk"
      }
    },
    {
      "cell_type": "markdown",
      "source": [
        "Some of the popular languages that Data Scientists use are:\n",
        "1. Python\n",
        "2. R\n",
        "3. SQL\n",
        "4. Julia\n",
        "5. Scala\n"
      ],
      "metadata": {
        "id": "5MGqiKH9U6kX"
      }
    },
    {
      "cell_type": "markdown",
      "source": [],
      "metadata": {
        "id": "UKxfOMHvUi3l"
      }
    },
    {
      "cell_type": "markdown",
      "source": [
        "Some of the commonly used libraries used by Data Scientists include:\n",
        "1. Pandas\n",
        "2. NumPy\n",
        "3. Matplotlib\n",
        "4. Scikit-learn\n",
        "5. TensorFlow\n"
      ],
      "metadata": {
        "id": "nmNM4SXDVFgH"
      }
    },
    {
      "cell_type": "markdown",
      "source": [
        "| Data Science Tools |\n",
        "|--------------------|\n",
        "| Jupyter Notebook   |\n",
        "| RStudio            |\n",
        "| Apache Zeppelin    |\n"
      ],
      "metadata": {
        "id": "b23pYqCvVOEo"
      }
    },
    {
      "cell_type": "markdown",
      "source": [
        "### Below are a few examples of evaluating arithmetic expressions in Python.\n"
      ],
      "metadata": {
        "id": "g5qYHHxYVWKB"
      }
    },
    {
      "cell_type": "code",
      "source": [
        "# This a simple arithmetic expression to multiply then add integers\n",
        "(3 * 4) + 5\n"
      ],
      "metadata": {
        "colab": {
          "base_uri": "https://localhost:8080/"
        },
        "id": "IMi8PekFVcam",
        "outputId": "8cee662e-bf23-4821-a4e3-fad4eb982dc0"
      },
      "execution_count": 2,
      "outputs": [
        {
          "output_type": "execute_result",
          "data": {
            "text/plain": [
              "17"
            ]
          },
          "metadata": {},
          "execution_count": 2
        }
      ]
    },
    {
      "cell_type": "code",
      "source": [
        "# This will convert 200 minutes to hours by dividing by 60\n",
        "200 / 60\n"
      ],
      "metadata": {
        "colab": {
          "base_uri": "https://localhost:8080/"
        },
        "id": "mfBqvtFIVjtj",
        "outputId": "ad1a3795-6db6-4935-94d7-9b5c22afe331"
      },
      "execution_count": 3,
      "outputs": [
        {
          "output_type": "execute_result",
          "data": {
            "text/plain": [
              "3.3333333333333335"
            ]
          },
          "metadata": {},
          "execution_count": 3
        }
      ]
    },
    {
      "cell_type": "markdown",
      "source": [
        "**Objectives:**\n",
        "- List popular languages for Data Science.\n",
        "- Identify commonly used libraries in Data Science.\n",
        "- Introduce open-source development tools for Data Science.\n",
        "- Demonstrate arithmetic operations in Python.\n",
        "- Convert units using Python.\n"
      ],
      "metadata": {
        "id": "ga7YP65PVsBE"
      }
    },
    {
      "cell_type": "markdown",
      "source": [
        "## Author\n",
        "Andrés Felipe Gallego\n"
      ],
      "metadata": {
        "id": "AC_aegOmV0bU"
      }
    }
  ]
}